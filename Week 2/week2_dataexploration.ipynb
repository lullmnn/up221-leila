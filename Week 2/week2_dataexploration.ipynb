{
 "cells": [
  {
   "cell_type": "markdown",
   "id": "d91549cf-7fba-4c8b-b905-ea028add4af8",
   "metadata": {},
   "source": [
    "# Week 2 Data Exploration\n",
    "## Leila Ullmann\n",
    "The purpose of this assignment is to work with...."
   ]
  },
  {
   "cell_type": "code",
   "execution_count": 1,
   "id": "bfb70335-29cd-48b6-a37f-d8ea3db9376f",
   "metadata": {},
   "outputs": [
    {
     "name": "stdout",
     "output_type": "stream",
     "text": [
      "upload to GitHub\n"
     ]
    }
   ],
   "source": [
    "# printing demonstration to upload notebook to github\n",
    "print('upload to GitHub')"
   ]
  }
 ],
 "metadata": {
  "kernelspec": {
   "display_name": "Python 3 (ipykernel)",
   "language": "python",
   "name": "python3"
  },
  "language_info": {
   "codemirror_mode": {
    "name": "ipython",
    "version": 3
   },
   "file_extension": ".py",
   "mimetype": "text/x-python",
   "name": "python",
   "nbconvert_exporter": "python",
   "pygments_lexer": "ipython3",
   "version": "3.11.9"
  }
 },
 "nbformat": 4,
 "nbformat_minor": 5
}
